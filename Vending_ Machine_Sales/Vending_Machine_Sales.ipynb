{
 "cells": [
  {
   "cell_type": "markdown",
   "metadata": {},
   "source": [
    "About Dataset\n",
    "\n",
    "This dataset represents vending machine data from various locations in Central New Jersey. The locations include a library, a mall, office location and a manufacturing locations. Data scientists can make use of the data to understand trends, user behavior and overall preferences by consumers at different locations.\n",
    "\n",
    "The location and machine data is as follows\n",
    "(1) Gutten Plans - Frozen dough specialist company that operates 24/5 . Vending machine assigned is GuttenPlans x1367\n",
    "(2) EB Public Library - Public library that has high foot traffic 5-6 days a week. Vending machine : EB Public Library x1380\n",
    "(3) Brunswick Sq Mall - Mall with average foot traffic 7 days a week. Vending machine(s) : BSQ Mall x1364 - Zales & BSQ Mall x1366 - ATT\n",
    "(4) Earle Asphalt - A construction engineering firm that operates 5 days a week. Vending machine : Earle Asphalt x1371\n",
    "\n",
    "#Información dataset https://www.kaggle.com/datasets/awesomeasingh/vending-machine-sales/"
   ]
  },
  {
   "cell_type": "code",
   "execution_count": 9,
   "metadata": {
    "colab": {
     "base_uri": "https://localhost:8080/"
    },
    "id": "8BV07-Y9ZJul",
    "outputId": "b113acb7-4918-4b2c-da10-695a61c08124"
   },
   "outputs": [],
   "source": [
    "import pandas as pd\n",
    "import seaborn as sns\n",
    "import numpy as np\n",
    "import matplotlib as mpl\n",
    "import matplotlib.pyplot as plt\n",
    "import requests\n",
    "mpl.style.use('bmh')\n",
    "\n",
    "#from google.colab import drive\n",
    "#import os\n",
    "#drive.mount ('/content/gdrive', force_remount=True)\n",
    "\n"
   ]
  },
  {
   "cell_type": "code",
   "execution_count": 10,
   "metadata": {
    "colab": {
     "base_uri": "https://localhost:8080/"
    },
    "id": "HzTeA2OnbFzz",
    "outputId": "f5a74bd6-e728-4754-869b-1c086a662570"
   },
   "outputs": [],
   "source": [
    "#%cd '/content/gdrive/MyDrive/Vending Machine Sales'\n",
    "#url = 'https://raw.githubusercontent.com/wilmerd1/CoderHouse/main/Vending_%20Machine_Sales/vending_machine_sales.csv'\n",
    "url = 'https://github.com/wilmerd1/PythonCoderHouse/blob/main/Vending_%20Machine_Sales/vending_machine_sales.xlsx?raw=true'\n",
    "myfile = requests.get(url)\n",
    "df = pd.read_excel (myfile.content)\n",
    "#df = pd.read_csv('vending_machine_sales.csv', )"
   ]
  },
  {
   "cell_type": "code",
   "execution_count": 11,
   "metadata": {},
   "outputs": [
    {
     "data": {
      "text/plain": [
       "(6446, 21)"
      ]
     },
     "execution_count": 11,
     "metadata": {},
     "output_type": "execute_result"
    }
   ],
   "source": [
    "df.shape"
   ]
  },
  {
   "cell_type": "code",
   "execution_count": 12,
   "metadata": {
    "colab": {
     "base_uri": "https://localhost:8080/"
    },
    "id": "abwiry2Vc1jU",
    "outputId": "d0b17ca1-8e54-46bb-c48c-a1557bb0788c"
   },
   "outputs": [
    {
     "data": {
      "text/plain": [
       "Status          object\n",
       "Device ID       object\n",
       "Location        object\n",
       "Machine         object\n",
       "Product         object\n",
       "Category        object\n",
       "Transaction    float64\n",
       "TransDate       object\n",
       "Type            object\n",
       "RCoil          float64\n",
       "RPrice         float64\n",
       "RQty           float64\n",
       "MCoil          float64\n",
       "MPrice         float64\n",
       "MQty           float64\n",
       "LineTotal      float64\n",
       "TransTotal     float64\n",
       "Prcd Date       object\n",
       "Day            float64\n",
       "Month          float64\n",
       "Year           float64\n",
       "dtype: object"
      ]
     },
     "execution_count": 12,
     "metadata": {},
     "output_type": "execute_result"
    }
   ],
   "source": [
    "df.dtypes"
   ]
  },
  {
   "cell_type": "code",
   "execution_count": 13,
   "metadata": {},
   "outputs": [
    {
     "name": "stdout",
     "output_type": "stream",
     "text": [
      "<class 'pandas.core.frame.DataFrame'>\n",
      "RangeIndex: 6446 entries, 0 to 6445\n",
      "Data columns (total 21 columns):\n",
      " #   Column       Non-Null Count  Dtype  \n",
      "---  ------       --------------  -----  \n",
      " 0   Status       6446 non-null   object \n",
      " 1   Device ID    6445 non-null   object \n",
      " 2   Location     6445 non-null   object \n",
      " 3   Machine      6445 non-null   object \n",
      " 4   Product      6441 non-null   object \n",
      " 5   Category     6260 non-null   object \n",
      " 6   Transaction  6445 non-null   float64\n",
      " 7   TransDate    6445 non-null   object \n",
      " 8   Type         6445 non-null   object \n",
      " 9   RCoil        6445 non-null   float64\n",
      " 10  RPrice       6445 non-null   float64\n",
      " 11  RQty         6445 non-null   float64\n",
      " 12  MCoil        6445 non-null   float64\n",
      " 13  MPrice       6444 non-null   float64\n",
      " 14  MQty         6445 non-null   float64\n",
      " 15  LineTotal    6445 non-null   float64\n",
      " 16  TransTotal   6445 non-null   float64\n",
      " 17  Prcd Date    6445 non-null   object \n",
      " 18  Day          6445 non-null   float64\n",
      " 19  Month        6445 non-null   float64\n",
      " 20  Year         6445 non-null   float64\n",
      "dtypes: float64(12), object(9)\n",
      "memory usage: 1.0+ MB\n"
     ]
    }
   ],
   "source": [
    "df.info()"
   ]
  },
  {
   "cell_type": "code",
   "execution_count": 14,
   "metadata": {},
   "outputs": [
    {
     "data": {
      "text/plain": [
       "Index(['Status', 'Device ID', 'Location', 'Machine', 'Product', 'Category',\n",
       "       'Transaction', 'TransDate', 'Type', 'RCoil', 'RPrice', 'RQty', 'MCoil',\n",
       "       'MPrice', 'MQty', 'LineTotal', 'TransTotal', 'Prcd Date', 'Day',\n",
       "       'Month', 'Year'],\n",
       "      dtype='object')"
      ]
     },
     "execution_count": 14,
     "metadata": {},
     "output_type": "execute_result"
    }
   ],
   "source": [
    "df.columns"
   ]
  },
  {
   "cell_type": "code",
   "execution_count": 15,
   "metadata": {
    "colab": {
     "base_uri": "https://localhost:8080/",
     "height": 206
    },
    "id": "3k-27hy0cmTV",
    "outputId": "1064af03-6efa-4b6d-e7d3-cf1a1b9805f7"
   },
   "outputs": [
    {
     "data": {
      "text/html": [
       "<div>\n",
       "<style scoped>\n",
       "    .dataframe tbody tr th:only-of-type {\n",
       "        vertical-align: middle;\n",
       "    }\n",
       "\n",
       "    .dataframe tbody tr th {\n",
       "        vertical-align: top;\n",
       "    }\n",
       "\n",
       "    .dataframe thead th {\n",
       "        text-align: right;\n",
       "    }\n",
       "</style>\n",
       "<table border=\"1\" class=\"dataframe\">\n",
       "  <thead>\n",
       "    <tr style=\"text-align: right;\">\n",
       "      <th></th>\n",
       "      <th>Status</th>\n",
       "      <th>Device ID</th>\n",
       "      <th>Location</th>\n",
       "      <th>Machine</th>\n",
       "      <th>Product</th>\n",
       "      <th>Category</th>\n",
       "      <th>Transaction</th>\n",
       "      <th>TransDate</th>\n",
       "      <th>Type</th>\n",
       "      <th>RCoil</th>\n",
       "      <th>...</th>\n",
       "      <th>RQty</th>\n",
       "      <th>MCoil</th>\n",
       "      <th>MPrice</th>\n",
       "      <th>MQty</th>\n",
       "      <th>LineTotal</th>\n",
       "      <th>TransTotal</th>\n",
       "      <th>Prcd Date</th>\n",
       "      <th>Day</th>\n",
       "      <th>Month</th>\n",
       "      <th>Year</th>\n",
       "    </tr>\n",
       "  </thead>\n",
       "  <tbody>\n",
       "    <tr>\n",
       "      <th>0</th>\n",
       "      <td>Processed</td>\n",
       "      <td>VJ300320611</td>\n",
       "      <td>Brunswick Sq Mall</td>\n",
       "      <td>BSQ Mall x1366 - ATT</td>\n",
       "      <td>Red Bull - Energy Drink - Sugar Free</td>\n",
       "      <td>Carbonated</td>\n",
       "      <td>1.451578e+10</td>\n",
       "      <td>Saturday, January 1, 2022</td>\n",
       "      <td>Credit</td>\n",
       "      <td>148.0</td>\n",
       "      <td>...</td>\n",
       "      <td>1.0</td>\n",
       "      <td>148.0</td>\n",
       "      <td>3.5</td>\n",
       "      <td>1.0</td>\n",
       "      <td>3.5</td>\n",
       "      <td>3.5</td>\n",
       "      <td>2022-01-01 00:00:00</td>\n",
       "      <td>1.0</td>\n",
       "      <td>1.0</td>\n",
       "      <td>2022.0</td>\n",
       "    </tr>\n",
       "    <tr>\n",
       "      <th>1</th>\n",
       "      <td>Processed</td>\n",
       "      <td>VJ300320611</td>\n",
       "      <td>Brunswick Sq Mall</td>\n",
       "      <td>BSQ Mall x1366 - ATT</td>\n",
       "      <td>Red Bull - Energy Drink - Sugar Free</td>\n",
       "      <td>Carbonated</td>\n",
       "      <td>1.451602e+10</td>\n",
       "      <td>Saturday, January 1, 2022</td>\n",
       "      <td>Credit</td>\n",
       "      <td>148.0</td>\n",
       "      <td>...</td>\n",
       "      <td>1.0</td>\n",
       "      <td>148.0</td>\n",
       "      <td>3.5</td>\n",
       "      <td>1.0</td>\n",
       "      <td>3.5</td>\n",
       "      <td>5.0</td>\n",
       "      <td>2022-01-01 00:00:00</td>\n",
       "      <td>1.0</td>\n",
       "      <td>1.0</td>\n",
       "      <td>2022.0</td>\n",
       "    </tr>\n",
       "    <tr>\n",
       "      <th>2</th>\n",
       "      <td>Processed</td>\n",
       "      <td>VJ300320611</td>\n",
       "      <td>Brunswick Sq Mall</td>\n",
       "      <td>BSQ Mall x1366 - ATT</td>\n",
       "      <td>Takis - Hot Chilli Pepper &amp; Lime</td>\n",
       "      <td>Food</td>\n",
       "      <td>1.451602e+10</td>\n",
       "      <td>Saturday, January 1, 2022</td>\n",
       "      <td>Credit</td>\n",
       "      <td>123.0</td>\n",
       "      <td>...</td>\n",
       "      <td>1.0</td>\n",
       "      <td>123.0</td>\n",
       "      <td>1.5</td>\n",
       "      <td>1.0</td>\n",
       "      <td>1.5</td>\n",
       "      <td>5.0</td>\n",
       "      <td>2022-01-01 00:00:00</td>\n",
       "      <td>1.0</td>\n",
       "      <td>1.0</td>\n",
       "      <td>2022.0</td>\n",
       "    </tr>\n",
       "    <tr>\n",
       "      <th>3</th>\n",
       "      <td>Processed</td>\n",
       "      <td>VJ300320611</td>\n",
       "      <td>Brunswick Sq Mall</td>\n",
       "      <td>BSQ Mall x1366 - ATT</td>\n",
       "      <td>Takis - Hot Chilli Pepper &amp; Lime</td>\n",
       "      <td>Food</td>\n",
       "      <td>1.451602e+10</td>\n",
       "      <td>Saturday, January 1, 2022</td>\n",
       "      <td>Credit</td>\n",
       "      <td>123.0</td>\n",
       "      <td>...</td>\n",
       "      <td>1.0</td>\n",
       "      <td>123.0</td>\n",
       "      <td>1.5</td>\n",
       "      <td>1.0</td>\n",
       "      <td>1.5</td>\n",
       "      <td>1.5</td>\n",
       "      <td>2022-01-01 00:00:00</td>\n",
       "      <td>1.0</td>\n",
       "      <td>1.0</td>\n",
       "      <td>2022.0</td>\n",
       "    </tr>\n",
       "    <tr>\n",
       "      <th>4</th>\n",
       "      <td>Processed</td>\n",
       "      <td>VJ300320611</td>\n",
       "      <td>Brunswick Sq Mall</td>\n",
       "      <td>BSQ Mall x1366 - ATT</td>\n",
       "      <td>Red Bull - Energy Drink - Sugar Free</td>\n",
       "      <td>Carbonated</td>\n",
       "      <td>1.451602e+10</td>\n",
       "      <td>Saturday, January 1, 2022</td>\n",
       "      <td>Credit</td>\n",
       "      <td>148.0</td>\n",
       "      <td>...</td>\n",
       "      <td>1.0</td>\n",
       "      <td>148.0</td>\n",
       "      <td>3.5</td>\n",
       "      <td>1.0</td>\n",
       "      <td>3.5</td>\n",
       "      <td>3.5</td>\n",
       "      <td>2022-01-01 00:00:00</td>\n",
       "      <td>1.0</td>\n",
       "      <td>1.0</td>\n",
       "      <td>2022.0</td>\n",
       "    </tr>\n",
       "  </tbody>\n",
       "</table>\n",
       "<p>5 rows × 21 columns</p>\n",
       "</div>"
      ],
      "text/plain": [
       "      Status    Device ID           Location               Machine  \\\n",
       "0  Processed  VJ300320611  Brunswick Sq Mall  BSQ Mall x1366 - ATT   \n",
       "1  Processed  VJ300320611  Brunswick Sq Mall  BSQ Mall x1366 - ATT   \n",
       "2  Processed  VJ300320611  Brunswick Sq Mall  BSQ Mall x1366 - ATT   \n",
       "3  Processed  VJ300320611  Brunswick Sq Mall  BSQ Mall x1366 - ATT   \n",
       "4  Processed  VJ300320611  Brunswick Sq Mall  BSQ Mall x1366 - ATT   \n",
       "\n",
       "                                Product    Category   Transaction  \\\n",
       "0  Red Bull - Energy Drink - Sugar Free  Carbonated  1.451578e+10   \n",
       "1  Red Bull - Energy Drink - Sugar Free  Carbonated  1.451602e+10   \n",
       "2      Takis - Hot Chilli Pepper & Lime        Food  1.451602e+10   \n",
       "3      Takis - Hot Chilli Pepper & Lime        Food  1.451602e+10   \n",
       "4  Red Bull - Energy Drink - Sugar Free  Carbonated  1.451602e+10   \n",
       "\n",
       "                   TransDate    Type  RCoil  ...  RQty  MCoil  MPrice  MQty  \\\n",
       "0  Saturday, January 1, 2022  Credit  148.0  ...   1.0  148.0     3.5   1.0   \n",
       "1  Saturday, January 1, 2022  Credit  148.0  ...   1.0  148.0     3.5   1.0   \n",
       "2  Saturday, January 1, 2022  Credit  123.0  ...   1.0  123.0     1.5   1.0   \n",
       "3  Saturday, January 1, 2022  Credit  123.0  ...   1.0  123.0     1.5   1.0   \n",
       "4  Saturday, January 1, 2022  Credit  148.0  ...   1.0  148.0     3.5   1.0   \n",
       "\n",
       "   LineTotal  TransTotal            Prcd Date  Day  Month    Year  \n",
       "0        3.5         3.5  2022-01-01 00:00:00  1.0    1.0  2022.0  \n",
       "1        3.5         5.0  2022-01-01 00:00:00  1.0    1.0  2022.0  \n",
       "2        1.5         5.0  2022-01-01 00:00:00  1.0    1.0  2022.0  \n",
       "3        1.5         1.5  2022-01-01 00:00:00  1.0    1.0  2022.0  \n",
       "4        3.5         3.5  2022-01-01 00:00:00  1.0    1.0  2022.0  \n",
       "\n",
       "[5 rows x 21 columns]"
      ]
     },
     "execution_count": 15,
     "metadata": {},
     "output_type": "execute_result"
    }
   ],
   "source": [
    "df.head(5)"
   ]
  },
  {
   "cell_type": "code",
   "execution_count": 16,
   "metadata": {
    "colab": {
     "base_uri": "https://localhost:8080/",
     "height": 279
    },
    "id": "2m1kRUeYcrVN",
    "outputId": "fcb28fc1-3e27-472d-d418-83e53bbe52ea"
   },
   "outputs": [
    {
     "data": {
      "text/html": [
       "<div>\n",
       "<style scoped>\n",
       "    .dataframe tbody tr th:only-of-type {\n",
       "        vertical-align: middle;\n",
       "    }\n",
       "\n",
       "    .dataframe tbody tr th {\n",
       "        vertical-align: top;\n",
       "    }\n",
       "\n",
       "    .dataframe thead th {\n",
       "        text-align: right;\n",
       "    }\n",
       "</style>\n",
       "<table border=\"1\" class=\"dataframe\">\n",
       "  <thead>\n",
       "    <tr style=\"text-align: right;\">\n",
       "      <th></th>\n",
       "      <th>Transaction</th>\n",
       "      <th>RCoil</th>\n",
       "      <th>RPrice</th>\n",
       "      <th>RQty</th>\n",
       "      <th>MCoil</th>\n",
       "      <th>MPrice</th>\n",
       "      <th>MQty</th>\n",
       "      <th>LineTotal</th>\n",
       "      <th>TransTotal</th>\n",
       "      <th>Day</th>\n",
       "      <th>Month</th>\n",
       "      <th>Year</th>\n",
       "    </tr>\n",
       "  </thead>\n",
       "  <tbody>\n",
       "    <tr>\n",
       "      <th>count</th>\n",
       "      <td>6.445000e+03</td>\n",
       "      <td>6445.000000</td>\n",
       "      <td>6445.000000</td>\n",
       "      <td>6445.000000</td>\n",
       "      <td>6445.000000</td>\n",
       "      <td>6444.000000</td>\n",
       "      <td>6445.000000</td>\n",
       "      <td>6445.000000</td>\n",
       "      <td>6445.000000</td>\n",
       "      <td>6445.000000</td>\n",
       "      <td>6445.000000</td>\n",
       "      <td>6445.0</td>\n",
       "    </tr>\n",
       "    <tr>\n",
       "      <th>mean</th>\n",
       "      <td>1.513391e+10</td>\n",
       "      <td>133.172692</td>\n",
       "      <td>1.926804</td>\n",
       "      <td>1.013344</td>\n",
       "      <td>133.172692</td>\n",
       "      <td>1.926870</td>\n",
       "      <td>1.013344</td>\n",
       "      <td>1.949651</td>\n",
       "      <td>2.183204</td>\n",
       "      <td>5.108922</td>\n",
       "      <td>16.374399</td>\n",
       "      <td>2022.0</td>\n",
       "    </tr>\n",
       "    <tr>\n",
       "      <th>std</th>\n",
       "      <td>2.983541e+08</td>\n",
       "      <td>12.909228</td>\n",
       "      <td>0.673113</td>\n",
       "      <td>0.121324</td>\n",
       "      <td>12.909228</td>\n",
       "      <td>0.673145</td>\n",
       "      <td>0.121324</td>\n",
       "      <td>0.703080</td>\n",
       "      <td>1.044052</td>\n",
       "      <td>2.156779</td>\n",
       "      <td>8.988229</td>\n",
       "      <td>0.0</td>\n",
       "    </tr>\n",
       "    <tr>\n",
       "      <th>min</th>\n",
       "      <td>1.451578e+10</td>\n",
       "      <td>110.000000</td>\n",
       "      <td>1.000000</td>\n",
       "      <td>1.000000</td>\n",
       "      <td>110.000000</td>\n",
       "      <td>1.000000</td>\n",
       "      <td>1.000000</td>\n",
       "      <td>1.000000</td>\n",
       "      <td>1.000000</td>\n",
       "      <td>1.000000</td>\n",
       "      <td>1.000000</td>\n",
       "      <td>2022.0</td>\n",
       "    </tr>\n",
       "    <tr>\n",
       "      <th>25%</th>\n",
       "      <td>1.490924e+10</td>\n",
       "      <td>122.000000</td>\n",
       "      <td>1.500000</td>\n",
       "      <td>1.000000</td>\n",
       "      <td>122.000000</td>\n",
       "      <td>1.500000</td>\n",
       "      <td>1.000000</td>\n",
       "      <td>1.500000</td>\n",
       "      <td>1.500000</td>\n",
       "      <td>4.000000</td>\n",
       "      <td>9.000000</td>\n",
       "      <td>2022.0</td>\n",
       "    </tr>\n",
       "    <tr>\n",
       "      <th>50%</th>\n",
       "      <td>1.516775e+10</td>\n",
       "      <td>138.000000</td>\n",
       "      <td>1.500000</td>\n",
       "      <td>1.000000</td>\n",
       "      <td>138.000000</td>\n",
       "      <td>1.500000</td>\n",
       "      <td>1.000000</td>\n",
       "      <td>1.500000</td>\n",
       "      <td>2.000000</td>\n",
       "      <td>5.000000</td>\n",
       "      <td>16.000000</td>\n",
       "      <td>2022.0</td>\n",
       "    </tr>\n",
       "    <tr>\n",
       "      <th>75%</th>\n",
       "      <td>1.538483e+10</td>\n",
       "      <td>144.000000</td>\n",
       "      <td>2.500000</td>\n",
       "      <td>1.000000</td>\n",
       "      <td>144.000000</td>\n",
       "      <td>2.500000</td>\n",
       "      <td>1.000000</td>\n",
       "      <td>2.500000</td>\n",
       "      <td>2.750000</td>\n",
       "      <td>7.000000</td>\n",
       "      <td>24.000000</td>\n",
       "      <td>2022.0</td>\n",
       "    </tr>\n",
       "    <tr>\n",
       "      <th>max</th>\n",
       "      <td>1.560392e+10</td>\n",
       "      <td>165.000000</td>\n",
       "      <td>5.000000</td>\n",
       "      <td>3.000000</td>\n",
       "      <td>165.000000</td>\n",
       "      <td>5.000000</td>\n",
       "      <td>3.000000</td>\n",
       "      <td>8.000000</td>\n",
       "      <td>8.000000</td>\n",
       "      <td>8.000000</td>\n",
       "      <td>31.000000</td>\n",
       "      <td>2022.0</td>\n",
       "    </tr>\n",
       "  </tbody>\n",
       "</table>\n",
       "</div>"
      ],
      "text/plain": [
       "        Transaction        RCoil       RPrice         RQty        MCoil  \\\n",
       "count  6.445000e+03  6445.000000  6445.000000  6445.000000  6445.000000   \n",
       "mean   1.513391e+10   133.172692     1.926804     1.013344   133.172692   \n",
       "std    2.983541e+08    12.909228     0.673113     0.121324    12.909228   \n",
       "min    1.451578e+10   110.000000     1.000000     1.000000   110.000000   \n",
       "25%    1.490924e+10   122.000000     1.500000     1.000000   122.000000   \n",
       "50%    1.516775e+10   138.000000     1.500000     1.000000   138.000000   \n",
       "75%    1.538483e+10   144.000000     2.500000     1.000000   144.000000   \n",
       "max    1.560392e+10   165.000000     5.000000     3.000000   165.000000   \n",
       "\n",
       "            MPrice         MQty    LineTotal   TransTotal          Day  \\\n",
       "count  6444.000000  6445.000000  6445.000000  6445.000000  6445.000000   \n",
       "mean      1.926870     1.013344     1.949651     2.183204     5.108922   \n",
       "std       0.673145     0.121324     0.703080     1.044052     2.156779   \n",
       "min       1.000000     1.000000     1.000000     1.000000     1.000000   \n",
       "25%       1.500000     1.000000     1.500000     1.500000     4.000000   \n",
       "50%       1.500000     1.000000     1.500000     2.000000     5.000000   \n",
       "75%       2.500000     1.000000     2.500000     2.750000     7.000000   \n",
       "max       5.000000     3.000000     8.000000     8.000000     8.000000   \n",
       "\n",
       "             Month    Year  \n",
       "count  6445.000000  6445.0  \n",
       "mean     16.374399  2022.0  \n",
       "std       8.988229     0.0  \n",
       "min       1.000000  2022.0  \n",
       "25%       9.000000  2022.0  \n",
       "50%      16.000000  2022.0  \n",
       "75%      24.000000  2022.0  \n",
       "max      31.000000  2022.0  "
      ]
     },
     "execution_count": 16,
     "metadata": {},
     "output_type": "execute_result"
    }
   ],
   "source": [
    "df.describe()"
   ]
  },
  {
   "cell_type": "code",
   "execution_count": 17,
   "metadata": {},
   "outputs": [
    {
     "data": {
      "text/plain": [
       "array(['Brunswick Sq Mall', 'Earle Asphalt', 'GuttenPlans',\n",
       "       'EB Public Library', nan], dtype=object)"
      ]
     },
     "execution_count": 17,
     "metadata": {},
     "output_type": "execute_result"
    }
   ],
   "source": [
    "pd.unique(df['Location'])"
   ]
  },
  {
   "cell_type": "code",
   "execution_count": 18,
   "metadata": {},
   "outputs": [
    {
     "data": {
      "text/plain": [
       "array(['Carbonated', 'Food', 'Non Carbonated', 'Water', nan], dtype=object)"
      ]
     },
     "execution_count": 18,
     "metadata": {},
     "output_type": "execute_result"
    }
   ],
   "source": [
    "pd.unique(df['Category'])"
   ]
  },
  {
   "cell_type": "code",
   "execution_count": 19,
   "metadata": {},
   "outputs": [
    {
     "data": {
      "text/plain": [
       "array(['BSQ Mall x1366 - ATT', 'BSQ Mall x1364 - Zales',\n",
       "       'Earle Asphalt x1371', 'GuttenPlans x1367',\n",
       "       'EB Public Library x1380', nan], dtype=object)"
      ]
     },
     "execution_count": 19,
     "metadata": {},
     "output_type": "execute_result"
    }
   ],
   "source": [
    "pd.unique(df['Machine'])"
   ]
  },
  {
   "cell_type": "code",
   "execution_count": 20,
   "metadata": {},
   "outputs": [
    {
     "data": {
      "text/plain": [
       "array(['Red Bull - Energy Drink - Sugar Free',\n",
       "       'Takis - Hot Chilli Pepper & Lime',\n",
       "       'Bai Antioxidant - Brasilia BB',\n",
       "       \"Miss Vickie's Potato Chip - Sea Salt & Vinega\",\n",
       "       \"Miss Vickie's Potato Chip - Lime & Cracked Pe\",\n",
       "       'Monster Energy Original',\n",
       "       'Seapoint Farms Dry Roasted Edamame - Wasabi',\n",
       "       'Snapple Diet Tea - Lemon', 'Skinny Pop Popcorn',\n",
       "       'Stretch Island Fruit Leathers Snacks - Variet',\n",
       "       'KitKat - Crisp Wafers', 'Wonderful Pistachios - Variety',\n",
       "       'Spindrift - Sparkling Water  Lime',\n",
       "       \"Miss Vickie's Potato Chip - Sea Salt Original\",\n",
       "       'Jacks Links Bar Beef Strip',\n",
       "       'Vitamin Water - XXX Acai BB Pomegranate',\n",
       "       'Cheetos - Fleming Hot Crunchy',\n",
       "       'Pure Organic Fruit Bar - Strawberry Banana', 'Oreo Mini',\n",
       "       'Nutter Butter Bites', 'Jack Links Beef Steak Original',\n",
       "       \"Robert Irvine's - Fit Crunch -  Chocolate Pea\",\n",
       "       'Good Health Veggie Stix - Zesty Ranch',\n",
       "       'Cheetos Baked - Flaming Hot',\n",
       "       'S. Pellegrino Sparkling Mineral Water', 'Mini Chips Ahoy',\n",
       "       'Newtons Fig Bar', 'SunChips Multigrain - Salsa',\n",
       "       'Bubly - Grapefruit', 'Poland Springs Water',\n",
       "       'Chum Fruit Bites - Mango/Strawberry',\n",
       "       'Snapple Diet Tea - Raspberry',\n",
       "       'Zevia Zero Calorie Energy - Mango Ginger',\n",
       "       'V8 Vegetable Juice - Original', 'BodyArmor LYTE  - Peach Mango',\n",
       "       'SunChips Multigrain - Harvest Cheddar',\n",
       "       'Good Health Veggie Stix - Sea Salt',\n",
       "       'Snapple Diet Tea - Peach Tea', 'Keto Krisp - Almond/Chocolate',\n",
       "       'Larabar - Peanut Butter chocolate Chip',\n",
       "       'Bai Antioxidant - Molokai Coconut', 'Monster Energy  Zero Ultra',\n",
       "       'Chesters Fries Flaming hot',\n",
       "       \"Miss Vickie's Potato Chip - Jalapeno\", 'Coca Cola - Zero Sugar',\n",
       "       'Red Bull - Original', 'Ruffles Baked  - Cheddar & Sour Cream',\n",
       "       'Ritz Bits Cheese', 'CheezIt - Original', 'Takis FUGEO mini',\n",
       "       'BodyArmor LYTE  - Berry Punch',\n",
       "       \"Miss Vickie's Potato Chip - Smokehouse BBQ\",\n",
       "       'Vitamin Water - Ice Cool Blue Lavender',\n",
       "       'CheezIt - White Cheddar',\n",
       "       \"Nature's Valley Crunchy Granola Bar - Oats &\",\n",
       "       'Lays Baked - Original', 'Bai Antioxidant - Zambia Bingcherry',\n",
       "       'Bubly - Cherry', 'Belvita Breakfast Cookies - Blueberry',\n",
       "       'Spindrift - Sparkling Water Raspberry Lime',\n",
       "       'SunChips Multigrain - Original', 'Popchips Potato - Barbeque',\n",
       "       \"Snyder's of Hanover Pretzel - Cheddar Cheese\",\n",
       "       'Pure Organic Pineapple Passionfruit',\n",
       "       'Keto Krisp - Almond Butter',\n",
       "       \"Nature's Valley Chewy Granola Bar - Fruit & N\",\n",
       "       'Vitamin Water - Squeezed Lemonade', 'Popchips Potato - Sea Salt',\n",
       "       'CheezIt - Double Cheese', 'Lays Baked - Barbecue',\n",
       "       'Sunkist Soda - Orange', 'Funyuns - Flaming Hot',\n",
       "       'Munchies Snack mix Flaming Hot',\n",
       "       'NuGo Dark Chocolate - Choc Chip', 'Oreo Single Server 6 ct',\n",
       "       'Cheetos Flaming Hot Limon Crunchy',\n",
       "       'Oberto Specialty Meats - Original', 'Doritos Famin Hot Nacho',\n",
       "       'Kinder - Bueno - Crispy Creamy Chocolate',\n",
       "       'Belvita Snack Packs - Blueberry',\n",
       "       'RXBAR - Protein Bar - Peanut Butter', 'Snapple Tea - Raspberry',\n",
       "       'KIND Bar - Dark Choc Almond SeaSalt', 'Fritos - Original',\n",
       "       'NuGo Dark Chocolate - Pretzel Sea Salt',\n",
       "       'Cheetos Baked - Crunchy Cheese',\n",
       "       'CheezIt - Cheddar Sour Cream and Onion',\n",
       "       'RXBAR - Protein Bar - Chocolate Sea Salt',\n",
       "       'Starbucks Doubleshot Energy - Mocha', 'Bubly - Blackberry',\n",
       "       'Doritos Nacho Cheese', 'Cheetos - Crunchy',\n",
       "       'Spindrift - Sparkling Water - Pineapple', 'Iberia Coconut Water',\n",
       "       'Doritos Cool Ranch', 'Lays - Classic',\n",
       "       'Genius Keto Bar - Chocolate Dream', nan,\n",
       "       'Lenny & Larrys - SnickerDoodle',\n",
       "       'Autumns Granola Bar - Cinnamon Almond',\n",
       "       'SunChips Multigrain - French Onion',\n",
       "       'Bai Antioxidant - Kula Watermelon', 'Honest Tea - Berry Hibiscus',\n",
       "       'Hungry Buddha - Chocolate Chip', 'Remedy Kombucha - Ginger Lemon',\n",
       "       'Doritos Dinamita Chile Lemon',\n",
       "       'Starbucks Refresher - Real Coconut Water',\n",
       "       'Hungry Buddha - Coconut Cocoa',\n",
       "       'Made in Nature - Mangoes Sweet & Tangy',\n",
       "       'Belvita Snack Packs - Cinnamon',\n",
       "       'Keto Bar - Creamy Peanut Butter Chocolate',\n",
       "       'Skippy Peanut Butter - Go Paks',\n",
       "       'Belvita Snack Bites - Cinnamon BS Go Paks',\n",
       "       'Pop Corners - Kettle Corn',\n",
       "       'Bai Antioxidant - Kupang strawberry kiwi',\n",
       "       'Quaker Caramel Rice Crisps', 'Belvita Snack Packs - Chocolate',\n",
       "       'Pop Corners - Sea Salt', 'Pop Corners - Spicy Queso',\n",
       "       'Quaker Apple Cinnamon Rice Crisps',\n",
       "       'Bai Antioxidant - Tanzania Lemon Super Tea',\n",
       "       'Quaker ButterMilk Ranch Rice Crisps',\n",
       "       'Bai Lemonade - Burundi Blueberry', 'Pop Corners - White Cheddar',\n",
       "       'Bubly - Mango', 'Nutri Grain Apple Cinnamon',\n",
       "       'Quaker Cheddar Rice Crisps', 'Cheetos Puffs',\n",
       "       'Cheetos Cheddar Jalapeno', 'Bubly - Lime',\n",
       "       \"Nature's Garden Trail Mix - Cranberry Healthy\",\n",
       "       'BodyArmor LYTE - Strawberry Lemonade',\n",
       "       'Keep Healthy - Chocolate Fudge', 'CheezIt - Go Paks',\n",
       "       'Lenny & Larrys - Chocolate Chip',\n",
       "       \"Snyder's of Hanover Pretzel Pieces - Honey Mu\",\n",
       "       'Belvita Breakfast Biscuit Bites - Blueberry',\n",
       "       \"Snyder's of Hanover Pretzel Pieces - Hot Buff\",\n",
       "       'Ice Breakers Ice Cubes - PepperMint', 'Goldfish Baked - Cheddar',\n",
       "       'Doritos Spicy Nacho', 'Pop Corners - Sweet & Salty Kettle',\n",
       "       'Mini Chips Ahoy - Go Paks', 'Oreo Mini - Go Paks',\n",
       "       'Teddy Grahams - Go Paks',\n",
       "       'BodyArmor  LYTE - Blueberry Pomegranate',\n",
       "       'Starbucks Doubleshot Energy - Coffee',\n",
       "       \"Snyder's of Hanover Pretzel Pieces - Cheddar\",\n",
       "       \"Nature's Bakery Fig Bar - Blueberry\",\n",
       "       \"Nature's Bakery Fig Bar - Raspberry\",\n",
       "       'Canada Dry - Ginger Ale & Lemonde', 'Canada Dry - Ginger Ale',\n",
       "       'Snapple Tea - Lemon', 'Popchips Potato - Sour Cream & Onion',\n",
       "       'Pringles - Cheddar Cheese', 'Pringles - Sour Cream & Onion',\n",
       "       'Coca Cola - Regular', 'Snapple Tea - Peach',\n",
       "       'Zone Perfect - Chocolate Chip Cookie Dough',\n",
       "       \"Nature's Garden Trail Mix - Omega 3\",\n",
       "       'S. Pellegrino Essenza Mineral Water - Blood O',\n",
       "       'Snapple Lemonade - black berry', 'Snapple Lemonade - watermelon',\n",
       "       'Snapple Lemonade - pineapple', 'Zevia Organic Tea - Peach',\n",
       "       \"Nature's Garden Trail Mix - Heart Healthy Mix\",\n",
       "       'Keto Bar - Chocolate Dream', 'Lindens - Chocolate Chippers',\n",
       "       'Pure Organic Fruit Bar - Raspberry Lemonade',\n",
       "       'TruBar - Cookie Dough', 'TruBar - Daydreaming about Donuts'],\n",
       "      dtype=object)"
      ]
     },
     "execution_count": 20,
     "metadata": {},
     "output_type": "execute_result"
    }
   ],
   "source": [
    "pd.unique(df['Product'])"
   ]
  },
  {
   "cell_type": "code",
   "execution_count": 21,
   "metadata": {},
   "outputs": [
    {
     "data": {
      "text/plain": [
       "count    6445.000000\n",
       "mean        2.183204\n",
       "std         1.044052\n",
       "min         1.000000\n",
       "25%         1.500000\n",
       "50%         2.000000\n",
       "75%         2.750000\n",
       "max         8.000000\n",
       "Name: TransTotal, dtype: float64"
      ]
     },
     "execution_count": 21,
     "metadata": {},
     "output_type": "execute_result"
    }
   ],
   "source": [
    "df['TransTotal'].describe()"
   ]
  },
  {
   "cell_type": "code",
   "execution_count": 22,
   "metadata": {},
   "outputs": [
    {
     "data": {
      "text/html": [
       "<div>\n",
       "<style scoped>\n",
       "    .dataframe tbody tr th:only-of-type {\n",
       "        vertical-align: middle;\n",
       "    }\n",
       "\n",
       "    .dataframe tbody tr th {\n",
       "        vertical-align: top;\n",
       "    }\n",
       "\n",
       "    .dataframe thead th {\n",
       "        text-align: right;\n",
       "    }\n",
       "</style>\n",
       "<table border=\"1\" class=\"dataframe\">\n",
       "  <thead>\n",
       "    <tr style=\"text-align: right;\">\n",
       "      <th></th>\n",
       "      <th>Transaction</th>\n",
       "      <th>RCoil</th>\n",
       "      <th>RPrice</th>\n",
       "      <th>RQty</th>\n",
       "      <th>MCoil</th>\n",
       "      <th>MPrice</th>\n",
       "      <th>MQty</th>\n",
       "      <th>LineTotal</th>\n",
       "      <th>TransTotal</th>\n",
       "      <th>Day</th>\n",
       "      <th>Month</th>\n",
       "      <th>Year</th>\n",
       "    </tr>\n",
       "    <tr>\n",
       "      <th>Category</th>\n",
       "      <th></th>\n",
       "      <th></th>\n",
       "      <th></th>\n",
       "      <th></th>\n",
       "      <th></th>\n",
       "      <th></th>\n",
       "      <th></th>\n",
       "      <th></th>\n",
       "      <th></th>\n",
       "      <th></th>\n",
       "      <th></th>\n",
       "      <th></th>\n",
       "    </tr>\n",
       "  </thead>\n",
       "  <tbody>\n",
       "    <tr>\n",
       "      <th>Carbonated</th>\n",
       "      <td>1.510553e+10</td>\n",
       "      <td>142.880415</td>\n",
       "      <td>2.057047</td>\n",
       "      <td>1.006101</td>\n",
       "      <td>142.880415</td>\n",
       "      <td>2.057047</td>\n",
       "      <td>1.006101</td>\n",
       "      <td>2.067267</td>\n",
       "      <td>2.140635</td>\n",
       "      <td>4.898109</td>\n",
       "      <td>16.368517</td>\n",
       "      <td>2022.0</td>\n",
       "    </tr>\n",
       "    <tr>\n",
       "      <th>Food</th>\n",
       "      <td>1.513296e+10</td>\n",
       "      <td>124.250292</td>\n",
       "      <td>1.702232</td>\n",
       "      <td>1.016044</td>\n",
       "      <td>124.250292</td>\n",
       "      <td>1.702232</td>\n",
       "      <td>1.016044</td>\n",
       "      <td>1.729653</td>\n",
       "      <td>2.045216</td>\n",
       "      <td>5.105018</td>\n",
       "      <td>16.312135</td>\n",
       "      <td>2022.0</td>\n",
       "    </tr>\n",
       "    <tr>\n",
       "      <th>Non Carbonated</th>\n",
       "      <td>1.516543e+10</td>\n",
       "      <td>144.353521</td>\n",
       "      <td>2.551056</td>\n",
       "      <td>1.004225</td>\n",
       "      <td>144.353521</td>\n",
       "      <td>2.551056</td>\n",
       "      <td>1.004225</td>\n",
       "      <td>2.561972</td>\n",
       "      <td>2.809507</td>\n",
       "      <td>5.340845</td>\n",
       "      <td>16.383099</td>\n",
       "      <td>2022.0</td>\n",
       "    </tr>\n",
       "    <tr>\n",
       "      <th>Water</th>\n",
       "      <td>1.512978e+10</td>\n",
       "      <td>144.322981</td>\n",
       "      <td>1.849379</td>\n",
       "      <td>1.024845</td>\n",
       "      <td>144.322981</td>\n",
       "      <td>1.849379</td>\n",
       "      <td>1.024845</td>\n",
       "      <td>1.890269</td>\n",
       "      <td>2.031573</td>\n",
       "      <td>5.078675</td>\n",
       "      <td>16.420290</td>\n",
       "      <td>2022.0</td>\n",
       "    </tr>\n",
       "  </tbody>\n",
       "</table>\n",
       "</div>"
      ],
      "text/plain": [
       "                 Transaction       RCoil    RPrice      RQty       MCoil  \\\n",
       "Category                                                                   \n",
       "Carbonated      1.510553e+10  142.880415  2.057047  1.006101  142.880415   \n",
       "Food            1.513296e+10  124.250292  1.702232  1.016044  124.250292   \n",
       "Non Carbonated  1.516543e+10  144.353521  2.551056  1.004225  144.353521   \n",
       "Water           1.512978e+10  144.322981  1.849379  1.024845  144.322981   \n",
       "\n",
       "                  MPrice      MQty  LineTotal  TransTotal       Day  \\\n",
       "Category                                                              \n",
       "Carbonated      2.057047  1.006101   2.067267    2.140635  4.898109   \n",
       "Food            1.702232  1.016044   1.729653    2.045216  5.105018   \n",
       "Non Carbonated  2.551056  1.004225   2.561972    2.809507  5.340845   \n",
       "Water           1.849379  1.024845   1.890269    2.031573  5.078675   \n",
       "\n",
       "                    Month    Year  \n",
       "Category                           \n",
       "Carbonated      16.368517  2022.0  \n",
       "Food            16.312135  2022.0  \n",
       "Non Carbonated  16.383099  2022.0  \n",
       "Water           16.420290  2022.0  "
      ]
     },
     "execution_count": 22,
     "metadata": {},
     "output_type": "execute_result"
    }
   ],
   "source": [
    "grouped_data = df.groupby('Category')\n",
    "grouped_data.describe()\n",
    "grouped_data.mean()"
   ]
  },
  {
   "cell_type": "code",
   "execution_count": 23,
   "metadata": {},
   "outputs": [
    {
     "data": {
      "text/html": [
       "<div>\n",
       "<style scoped>\n",
       "    .dataframe tbody tr th:only-of-type {\n",
       "        vertical-align: middle;\n",
       "    }\n",
       "\n",
       "    .dataframe tbody tr th {\n",
       "        vertical-align: top;\n",
       "    }\n",
       "\n",
       "    .dataframe thead th {\n",
       "        text-align: right;\n",
       "    }\n",
       "</style>\n",
       "<table border=\"1\" class=\"dataframe\">\n",
       "  <thead>\n",
       "    <tr style=\"text-align: right;\">\n",
       "      <th></th>\n",
       "      <th>Recuento</th>\n",
       "    </tr>\n",
       "  </thead>\n",
       "  <tbody>\n",
       "    <tr>\n",
       "      <th>GuttenPlans</th>\n",
       "      <td>2568</td>\n",
       "    </tr>\n",
       "    <tr>\n",
       "      <th>EB Public Library</th>\n",
       "      <td>1922</td>\n",
       "    </tr>\n",
       "    <tr>\n",
       "      <th>Brunswick Sq Mall</th>\n",
       "      <td>1279</td>\n",
       "    </tr>\n",
       "    <tr>\n",
       "      <th>Earle Asphalt</th>\n",
       "      <td>676</td>\n",
       "    </tr>\n",
       "  </tbody>\n",
       "</table>\n",
       "</div>"
      ],
      "text/plain": [
       "                   Recuento\n",
       "GuttenPlans            2568\n",
       "EB Public Library      1922\n",
       "Brunswick Sq Mall      1279\n",
       "Earle Asphalt           676"
      ]
     },
     "execution_count": 23,
     "metadata": {},
     "output_type": "execute_result"
    }
   ],
   "source": [
    "frame = df.Location.value_counts().to_frame('Recuento')\n",
    "frame.head()"
   ]
  },
  {
   "cell_type": "code",
   "execution_count": 24,
   "metadata": {},
   "outputs": [
    {
     "data": {
      "text/plain": [
       "Text(0, 0.5, 'Ventas')"
      ]
     },
     "execution_count": 24,
     "metadata": {},
     "output_type": "execute_result"
    },
    {
     "data": {
      "image/png": "[encoded data removed]",
      "text/plain": [
       "<Figure size 432x288 with 1 Axes>"
      ]
     },
     "metadata": {
      "needs_background": "light"
     },
     "output_type": "display_data"
    }
   ],
   "source": [
    "frame.plot(kind='bar')\n",
    "plt.xticks(rotation=15, horizontalalignment=\"center\")\n",
    "plt.title(\"Ventas por Ubicación de las Maquinas\")\n",
    "plt.xlabel('Ubicación')\n",
    "plt.ylabel('Ventas')"
   ]
  },
  {
   "cell_type": "code",
   "execution_count": 25,
   "metadata": {},
   "outputs": [
    {
     "data": {
      "text/plain": [
       "Text(0, 0.5, 'Ventas')"
      ]
     },
     "execution_count": 25,
     "metadata": {},
     "output_type": "execute_result"
    },
    {
     "data": {
      "image/png": "[encoded data removed]",
      "text/plain": [
       "<Figure size 432x288 with 1 Axes>"
      ]
     },
     "metadata": {
      "needs_background": "light"
     },
     "output_type": "display_data"
    }
   ],
   "source": [
    "#Cantidad de Transacciones por Maquina\n",
    "data=df.Machine.value_counts().to_frame()\n",
    "data.plot(kind='bar')\n",
    "plt.xticks(rotation=15, horizontalalignment=\"center\")\n",
    "plt.title(\"Ventas por Maquinas\")\n",
    "plt.xlabel('Maquina')\n",
    "plt.ylabel('Ventas')\n"
   ]
  },
  {
   "cell_type": "code",
   "execution_count": 30,
   "metadata": {},
   "outputs": [
    {
     "data": {
      "text/plain": [
       "<matplotlib.legend.Legend at 0x29db01e77f0>"
      ]
     },
     "execution_count": 30,
     "metadata": {},
     "output_type": "execute_result"
    },
    {
     "data": {
      "image/png": "[encoded data removed]",
      "text/plain": [
       "<Figure size 504x504 with 1 Axes>"
      ]
     },
     "metadata": {},
     "output_type": "display_data"
    }
   ],
   "source": [
    "# Gráfico Pie % Ventas por Maquinas\n",
    "plot = df['Machine'].value_counts().plot(\n",
    "            kind='pie',autopct=\"%.2f%%\", \n",
    "            figsize=(7,7), title='% Ventas Por Maquina', label=\"\")\n",
    "plot.legend(loc='upper left')\n",
    "\n"
   ]
  },
  {
   "cell_type": "code",
   "execution_count": 27,
   "metadata": {},
   "outputs": [
    {
     "data": {
      "text/plain": [
       "Text(0, 0.5, 'Categorias')"
      ]
     },
     "execution_count": 27,
     "metadata": {},
     "output_type": "execute_result"
    },
    {
     "data": {
      "image/png": "[encoded data removed]",
      "text/plain": [
       "<Figure size 576x576 with 1 Axes>"
      ]
     },
     "metadata": {},
     "output_type": "display_data"
    }
   ],
   "source": [
    "#Cantidad de Transacciones por Maquina\n",
    "plot = df['Category'].value_counts().plot(\n",
    "            kind='pie',autopct='%.2f%%', figsize=(8,8), title='% Ventas por Categoria',)\n",
    "plt.legend()\n",
    "plt.ylabel('Categorias')"
   ]
  },
  {
   "cell_type": "code",
   "execution_count": 28,
   "metadata": {},
   "outputs": [
    {
     "name": "stdout",
     "output_type": "stream",
     "text": [
      "Category           Carbonated  Food  Non Carbonated  Water   All\n",
      "Location                                                        \n",
      "Brunswick Sq Mall         221   538             181    286  1226\n",
      "EB Public Library         279  1097             275    183  1834\n",
      "Earle Asphalt              43   591              28     14   676\n",
      "GuttenPlans              1096  1202             226      0  2524\n",
      "All                      1639  3428             710    483  6260\n"
     ]
    }
   ],
   "source": [
    "tablacruzada = pd.crosstab(index=df['Location'],columns=df['Category'], margins=True)\n",
    "print(tablacruzada)"
   ]
  },
  {
   "cell_type": "code",
   "execution_count": 29,
   "metadata": {},
   "outputs": [
    {
     "data": {
      "text/plain": [
       "(array([0, 1, 2, 3]),\n",
       " [Text(0, 0, 'Brunswick Sq Mall'),\n",
       "  Text(1, 0, 'EB Public Library'),\n",
       "  Text(2, 0, 'Earle Asphalt'),\n",
       "  Text(3, 0, 'GuttenPlans')])"
      ]
     },
     "execution_count": 29,
     "metadata": {},
     "output_type": "execute_result"
    },
    {
     "data": {
      "image/png": "[encoded data removed]",
      "text/plain": [
       "<Figure size 432x288 with 1 Axes>"
      ]
     },
     "metadata": {
      "needs_background": "light"
     },
     "output_type": "display_data"
    }
   ],
   "source": [
    "plot = pd.crosstab(index=df['Location'], \n",
    "                   columns=df['Category']).apply(lambda r: r/r.sum()\n",
    "                                                 *100,axis=1).plot(kind='bar')\n",
    "plt.xticks(rotation=15, horizontalalignment=\"center\")"
   ]
  },
  {
   "cell_type": "code",
   "execution_count": 42,
   "metadata": {},
   "outputs": [],
   "source": [
    "prod = df.Product.value_counts().to_frame('prudc')\n",
    "top = prod.head(5)"
   ]
  },
  {
   "cell_type": "code",
   "execution_count": 43,
   "metadata": {},
   "outputs": [
    {
     "data": {
      "text/plain": [
       "Text(0, 0.5, 'Ventas')"
      ]
     },
     "execution_count": 43,
     "metadata": {},
     "output_type": "execute_result"
    },
    {
     "data": {
      "image/png": "[encoded data removed]",
      "text/plain": [
       "<Figure size 432x288 with 1 Axes>"
      ]
     },
     "metadata": {
      "needs_background": "light"
     },
     "output_type": "display_data"
    }
   ],
   "source": [
    "#datapro=df.Product.value_counts().to_frame()\n",
    "datapro = top\n",
    "datapro.plot(kind='bar')\n",
    "plt.xticks(rotation=15, horizontalalignment=\"center\")\n",
    "plt.title(\"Ventas por Maquinas\")\n",
    "plt.xlabel('Maquina')\n",
    "plt.ylabel('Ventas')"
   ]
  }
 ],
 "metadata": {
  "colab": {
   "provenance": []
  },
  "kernelspec": {
   "display_name": "Python 3.9.12 ('base')",
   "language": "python",
   "name": "python3"
  },
  "language_info": {
   "codemirror_mode": {
    "name": "ipython",
    "version": 3
   },
   "file_extension": ".py",
   "mimetype": "text/x-python",
   "name": "python",
   "nbconvert_exporter": "python",
   "pygments_lexer": "ipython3",
   "version": "3.9.12"
  },
  "vscode": {
   "interpreter": {
    "hash": "ad2bdc8ecc057115af97d19610ffacc2b4e99fae6737bb82f5d7fb13d2f2c186"
   }
  }
 },
 "nbformat": 4,
 "nbformat_minor": 1
}
