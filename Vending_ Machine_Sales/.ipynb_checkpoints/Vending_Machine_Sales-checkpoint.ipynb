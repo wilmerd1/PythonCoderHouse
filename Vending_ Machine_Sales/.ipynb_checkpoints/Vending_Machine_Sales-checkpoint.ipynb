{
 "cells": [
  {
   "cell_type": "markdown",
   "metadata": {},
   "source": [
    "About Dataset\n",
    "\n",
    "This dataset represents vending machine data from various locations in Central New Jersey. The locations include a library, a mall, office location and a manufacturing locations. Data scientists can make use of the data to understand trends, user behavior and overall preferences by consumers at different locations.\n",
    "\n",
    "The location and machine data is as follows\n",
    "(1) Gutten Plans - Frozen dough specialist company that operates 24/5 . Vending machine assigned is GuttenPlans x1367\n",
    "(2) EB Public Library - Public library that has high foot traffic 5-6 days a week. Vending machine : EB Public Library x1380\n",
    "(3) Brunswick Sq Mall - Mall with average foot traffic 7 days a week. Vending machine(s) : BSQ Mall x1364 - Zales & BSQ Mall x1366 - ATT\n",
    "(4) Earle Asphalt - A construction engineering firm that operates 5 days a week. Vending machine : Earle Asphalt x1371\n",
    "\n",
    "#Información dataset https://www.kaggle.com/datasets/awesomeasingh/vending-machine-sales/"
   ]
  },
  {
   "cell_type": "code",
   "execution_count": 8,
   "metadata": {
    "colab": {
     "base_uri": "https://localhost:8080/"
    },
    "id": "8BV07-Y9ZJul",
    "outputId": "b113acb7-4918-4b2c-da10-695a61c08124"
   },
   "outputs": [],
   "source": [
    "import pandas as pd\n",
    "#from google.colab import drive\n",
    "#import os\n",
    "#drive.mount ('/content/gdrive', force_remount=True)\n",
    "\n"
   ]
  },
  {
   "cell_type": "code",
   "execution_count": 19,
   "metadata": {
    "colab": {
     "base_uri": "https://localhost:8080/"
    },
    "id": "HzTeA2OnbFzz",
    "outputId": "f5a74bd6-e728-4754-869b-1c086a662570"
   },
   "outputs": [],
   "source": [
    "#%cd '/content/gdrive/MyDrive/Vending Machine Sales'\n",
    "df = pd.read_csv (\"D:/Python/DataSet/Vending_ Machine_Sales/vending_machine_sales.csv\")\n",
    "#df = pd.read_csv('vending_machine_sales.csv', sep=',')"
   ]
  },
  {
   "cell_type": "code",
   "execution_count": 42,
   "metadata": {},
   "outputs": [
    {
     "data": {
      "text/plain": [
       "(6445, 18)"
      ]
     },
     "execution_count": 42,
     "metadata": {},
     "output_type": "execute_result"
    }
   ],
   "source": [
    "df.shape"
   ]
  },
  {
   "cell_type": "code",
   "execution_count": 27,
   "metadata": {
    "colab": {
     "base_uri": "https://localhost:8080/"
    },
    "id": "abwiry2Vc1jU",
    "outputId": "d0b17ca1-8e54-46bb-c48c-a1557bb0788c"
   },
   "outputs": [
    {
     "data": {
      "text/plain": [
       "Status          object\n",
       "Device ID       object\n",
       "Location        object\n",
       "Machine         object\n",
       "Product         object\n",
       "Category        object\n",
       "Transaction      int64\n",
       "TransDate       object\n",
       "Type            object\n",
       "RCoil            int64\n",
       "RPrice         float64\n",
       "RQty             int64\n",
       "MCoil            int64\n",
       "MPrice         float64\n",
       "MQty             int64\n",
       "LineTotal      float64\n",
       "TransTotal     float64\n",
       "Prcd Date       object\n",
       "dtype: object"
      ]
     },
     "execution_count": 27,
     "metadata": {},
     "output_type": "execute_result"
    }
   ],
   "source": [
    "df.dtypes"
   ]
  },
  {
   "cell_type": "code",
   "execution_count": 28,
   "metadata": {},
   "outputs": [
    {
     "name": "stdout",
     "output_type": "stream",
     "text": [
      "<class 'pandas.core.frame.DataFrame'>\n",
      "RangeIndex: 6445 entries, 0 to 6444\n",
      "Data columns (total 18 columns):\n",
      " #   Column       Non-Null Count  Dtype  \n",
      "---  ------       --------------  -----  \n",
      " 0   Status       6445 non-null   object \n",
      " 1   Device ID    6445 non-null   object \n",
      " 2   Location     6445 non-null   object \n",
      " 3   Machine      6445 non-null   object \n",
      " 4   Product      6441 non-null   object \n",
      " 5   Category     6260 non-null   object \n",
      " 6   Transaction  6445 non-null   int64  \n",
      " 7   TransDate    6445 non-null   object \n",
      " 8   Type         6445 non-null   object \n",
      " 9   RCoil        6445 non-null   int64  \n",
      " 10  RPrice       6445 non-null   float64\n",
      " 11  RQty         6445 non-null   int64  \n",
      " 12  MCoil        6445 non-null   int64  \n",
      " 13  MPrice       6444 non-null   float64\n",
      " 14  MQty         6445 non-null   int64  \n",
      " 15  LineTotal    6445 non-null   float64\n",
      " 16  TransTotal   6445 non-null   float64\n",
      " 17  Prcd Date    6445 non-null   object \n",
      "dtypes: float64(4), int64(5), object(9)\n",
      "memory usage: 906.5+ KB\n"
     ]
    }
   ],
   "source": [
    "df.info()"
   ]
  },
  {
   "cell_type": "code",
   "execution_count": 29,
   "metadata": {},
   "outputs": [
    {
     "data": {
      "text/plain": [
       "Index(['Status', 'Device ID', 'Location', 'Machine', 'Product', 'Category',\n",
       "       'Transaction', 'TransDate', 'Type', 'RCoil', 'RPrice', 'RQty', 'MCoil',\n",
       "       'MPrice', 'MQty', 'LineTotal', 'TransTotal', 'Prcd Date'],\n",
       "      dtype='object')"
      ]
     },
     "execution_count": 29,
     "metadata": {},
     "output_type": "execute_result"
    }
   ],
   "source": [
    "df.columns"
   ]
  },
  {
   "cell_type": "code",
   "execution_count": 21,
   "metadata": {
    "colab": {
     "base_uri": "https://localhost:8080/",
     "height": 206
    },
    "id": "3k-27hy0cmTV",
    "outputId": "1064af03-6efa-4b6d-e7d3-cf1a1b9805f7"
   },
   "outputs": [
    {
     "data": {
      "text/html": [
       "<div>\n",
       "<style scoped>\n",
       "    .dataframe tbody tr th:only-of-type {\n",
       "        vertical-align: middle;\n",
       "    }\n",
       "\n",
       "    .dataframe tbody tr th {\n",
       "        vertical-align: top;\n",
       "    }\n",
       "\n",
       "    .dataframe thead th {\n",
       "        text-align: right;\n",
       "    }\n",
       "</style>\n",
       "<table border=\"1\" class=\"dataframe\">\n",
       "  <thead>\n",
       "    <tr style=\"text-align: right;\">\n",
       "      <th></th>\n",
       "      <th>Status</th>\n",
       "      <th>Device ID</th>\n",
       "      <th>Location</th>\n",
       "      <th>Machine</th>\n",
       "      <th>Product</th>\n",
       "      <th>Category</th>\n",
       "      <th>Transaction</th>\n",
       "      <th>TransDate</th>\n",
       "      <th>Type</th>\n",
       "      <th>RCoil</th>\n",
       "      <th>RPrice</th>\n",
       "      <th>RQty</th>\n",
       "      <th>MCoil</th>\n",
       "      <th>MPrice</th>\n",
       "      <th>MQty</th>\n",
       "      <th>LineTotal</th>\n",
       "      <th>TransTotal</th>\n",
       "      <th>Prcd Date</th>\n",
       "    </tr>\n",
       "  </thead>\n",
       "  <tbody>\n",
       "    <tr>\n",
       "      <th>0</th>\n",
       "      <td>Processed</td>\n",
       "      <td>VJ300320611</td>\n",
       "      <td>Brunswick Sq Mall</td>\n",
       "      <td>BSQ Mall x1366 - ATT</td>\n",
       "      <td>Red Bull - Energy Drink - Sugar Free</td>\n",
       "      <td>Carbonated</td>\n",
       "      <td>14515778905</td>\n",
       "      <td>Saturday, January 1, 2022</td>\n",
       "      <td>Credit</td>\n",
       "      <td>148</td>\n",
       "      <td>3.5</td>\n",
       "      <td>1</td>\n",
       "      <td>148</td>\n",
       "      <td>3.5</td>\n",
       "      <td>1</td>\n",
       "      <td>3.5</td>\n",
       "      <td>3.5</td>\n",
       "      <td>1/1/2022</td>\n",
       "    </tr>\n",
       "    <tr>\n",
       "      <th>1</th>\n",
       "      <td>Processed</td>\n",
       "      <td>VJ300320611</td>\n",
       "      <td>Brunswick Sq Mall</td>\n",
       "      <td>BSQ Mall x1366 - ATT</td>\n",
       "      <td>Red Bull - Energy Drink - Sugar Free</td>\n",
       "      <td>Carbonated</td>\n",
       "      <td>14516018629</td>\n",
       "      <td>Saturday, January 1, 2022</td>\n",
       "      <td>Credit</td>\n",
       "      <td>148</td>\n",
       "      <td>3.5</td>\n",
       "      <td>1</td>\n",
       "      <td>148</td>\n",
       "      <td>3.5</td>\n",
       "      <td>1</td>\n",
       "      <td>3.5</td>\n",
       "      <td>5.0</td>\n",
       "      <td>1/1/2022</td>\n",
       "    </tr>\n",
       "    <tr>\n",
       "      <th>2</th>\n",
       "      <td>Processed</td>\n",
       "      <td>VJ300320611</td>\n",
       "      <td>Brunswick Sq Mall</td>\n",
       "      <td>BSQ Mall x1366 - ATT</td>\n",
       "      <td>Takis - Hot Chilli Pepper &amp; Lime</td>\n",
       "      <td>Food</td>\n",
       "      <td>14516018629</td>\n",
       "      <td>Saturday, January 1, 2022</td>\n",
       "      <td>Credit</td>\n",
       "      <td>123</td>\n",
       "      <td>1.5</td>\n",
       "      <td>1</td>\n",
       "      <td>123</td>\n",
       "      <td>1.5</td>\n",
       "      <td>1</td>\n",
       "      <td>1.5</td>\n",
       "      <td>5.0</td>\n",
       "      <td>1/1/2022</td>\n",
       "    </tr>\n",
       "    <tr>\n",
       "      <th>3</th>\n",
       "      <td>Processed</td>\n",
       "      <td>VJ300320611</td>\n",
       "      <td>Brunswick Sq Mall</td>\n",
       "      <td>BSQ Mall x1366 - ATT</td>\n",
       "      <td>Takis - Hot Chilli Pepper &amp; Lime</td>\n",
       "      <td>Food</td>\n",
       "      <td>14516020373</td>\n",
       "      <td>Saturday, January 1, 2022</td>\n",
       "      <td>Credit</td>\n",
       "      <td>123</td>\n",
       "      <td>1.5</td>\n",
       "      <td>1</td>\n",
       "      <td>123</td>\n",
       "      <td>1.5</td>\n",
       "      <td>1</td>\n",
       "      <td>1.5</td>\n",
       "      <td>1.5</td>\n",
       "      <td>1/1/2022</td>\n",
       "    </tr>\n",
       "    <tr>\n",
       "      <th>4</th>\n",
       "      <td>Processed</td>\n",
       "      <td>VJ300320611</td>\n",
       "      <td>Brunswick Sq Mall</td>\n",
       "      <td>BSQ Mall x1366 - ATT</td>\n",
       "      <td>Red Bull - Energy Drink - Sugar Free</td>\n",
       "      <td>Carbonated</td>\n",
       "      <td>14516021756</td>\n",
       "      <td>Saturday, January 1, 2022</td>\n",
       "      <td>Credit</td>\n",
       "      <td>148</td>\n",
       "      <td>3.5</td>\n",
       "      <td>1</td>\n",
       "      <td>148</td>\n",
       "      <td>3.5</td>\n",
       "      <td>1</td>\n",
       "      <td>3.5</td>\n",
       "      <td>3.5</td>\n",
       "      <td>1/1/2022</td>\n",
       "    </tr>\n",
       "  </tbody>\n",
       "</table>\n",
       "</div>"
      ],
      "text/plain": [
       "      Status    Device ID           Location               Machine  \\\n",
       "0  Processed  VJ300320611  Brunswick Sq Mall  BSQ Mall x1366 - ATT   \n",
       "1  Processed  VJ300320611  Brunswick Sq Mall  BSQ Mall x1366 - ATT   \n",
       "2  Processed  VJ300320611  Brunswick Sq Mall  BSQ Mall x1366 - ATT   \n",
       "3  Processed  VJ300320611  Brunswick Sq Mall  BSQ Mall x1366 - ATT   \n",
       "4  Processed  VJ300320611  Brunswick Sq Mall  BSQ Mall x1366 - ATT   \n",
       "\n",
       "                                Product    Category  Transaction  \\\n",
       "0  Red Bull - Energy Drink - Sugar Free  Carbonated  14515778905   \n",
       "1  Red Bull - Energy Drink - Sugar Free  Carbonated  14516018629   \n",
       "2      Takis - Hot Chilli Pepper & Lime        Food  14516018629   \n",
       "3      Takis - Hot Chilli Pepper & Lime        Food  14516020373   \n",
       "4  Red Bull - Energy Drink - Sugar Free  Carbonated  14516021756   \n",
       "\n",
       "                   TransDate    Type  RCoil  RPrice  RQty  MCoil  MPrice  \\\n",
       "0  Saturday, January 1, 2022  Credit    148     3.5     1    148     3.5   \n",
       "1  Saturday, January 1, 2022  Credit    148     3.5     1    148     3.5   \n",
       "2  Saturday, January 1, 2022  Credit    123     1.5     1    123     1.5   \n",
       "3  Saturday, January 1, 2022  Credit    123     1.5     1    123     1.5   \n",
       "4  Saturday, January 1, 2022  Credit    148     3.5     1    148     3.5   \n",
       "\n",
       "   MQty  LineTotal  TransTotal Prcd Date  \n",
       "0     1        3.5         3.5  1/1/2022  \n",
       "1     1        3.5         5.0  1/1/2022  \n",
       "2     1        1.5         5.0  1/1/2022  \n",
       "3     1        1.5         1.5  1/1/2022  \n",
       "4     1        3.5         3.5  1/1/2022  "
      ]
     },
     "execution_count": 21,
     "metadata": {},
     "output_type": "execute_result"
    }
   ],
   "source": [
    "df.head(5)"
   ]
  },
  {
   "cell_type": "code",
   "execution_count": 23,
   "metadata": {
    "colab": {
     "base_uri": "https://localhost:8080/",
     "height": 279
    },
    "id": "2m1kRUeYcrVN",
    "outputId": "fcb28fc1-3e27-472d-d418-83e53bbe52ea"
   },
   "outputs": [
    {
     "data": {
      "text/html": [
       "<div>\n",
       "<style scoped>\n",
       "    .dataframe tbody tr th:only-of-type {\n",
       "        vertical-align: middle;\n",
       "    }\n",
       "\n",
       "    .dataframe tbody tr th {\n",
       "        vertical-align: top;\n",
       "    }\n",
       "\n",
       "    .dataframe thead th {\n",
       "        text-align: right;\n",
       "    }\n",
       "</style>\n",
       "<table border=\"1\" class=\"dataframe\">\n",
       "  <thead>\n",
       "    <tr style=\"text-align: right;\">\n",
       "      <th></th>\n",
       "      <th>Transaction</th>\n",
       "      <th>RCoil</th>\n",
       "      <th>RPrice</th>\n",
       "      <th>RQty</th>\n",
       "      <th>MCoil</th>\n",
       "      <th>MPrice</th>\n",
       "      <th>MQty</th>\n",
       "      <th>LineTotal</th>\n",
       "      <th>TransTotal</th>\n",
       "    </tr>\n",
       "  </thead>\n",
       "  <tbody>\n",
       "    <tr>\n",
       "      <th>count</th>\n",
       "      <td>6.445000e+03</td>\n",
       "      <td>6445.000000</td>\n",
       "      <td>6445.000000</td>\n",
       "      <td>6445.000000</td>\n",
       "      <td>6445.000000</td>\n",
       "      <td>6444.000000</td>\n",
       "      <td>6445.000000</td>\n",
       "      <td>6445.000000</td>\n",
       "      <td>6445.000000</td>\n",
       "    </tr>\n",
       "    <tr>\n",
       "      <th>mean</th>\n",
       "      <td>1.513391e+10</td>\n",
       "      <td>133.172692</td>\n",
       "      <td>1.926804</td>\n",
       "      <td>1.013344</td>\n",
       "      <td>133.172692</td>\n",
       "      <td>1.926870</td>\n",
       "      <td>1.013344</td>\n",
       "      <td>1.949651</td>\n",
       "      <td>2.183204</td>\n",
       "    </tr>\n",
       "    <tr>\n",
       "      <th>std</th>\n",
       "      <td>2.983541e+08</td>\n",
       "      <td>12.909228</td>\n",
       "      <td>0.673113</td>\n",
       "      <td>0.121324</td>\n",
       "      <td>12.909228</td>\n",
       "      <td>0.673145</td>\n",
       "      <td>0.121324</td>\n",
       "      <td>0.703080</td>\n",
       "      <td>1.044052</td>\n",
       "    </tr>\n",
       "    <tr>\n",
       "      <th>min</th>\n",
       "      <td>1.451578e+10</td>\n",
       "      <td>110.000000</td>\n",
       "      <td>1.000000</td>\n",
       "      <td>1.000000</td>\n",
       "      <td>110.000000</td>\n",
       "      <td>1.000000</td>\n",
       "      <td>1.000000</td>\n",
       "      <td>1.000000</td>\n",
       "      <td>1.000000</td>\n",
       "    </tr>\n",
       "    <tr>\n",
       "      <th>25%</th>\n",
       "      <td>1.490924e+10</td>\n",
       "      <td>122.000000</td>\n",
       "      <td>1.500000</td>\n",
       "      <td>1.000000</td>\n",
       "      <td>122.000000</td>\n",
       "      <td>1.500000</td>\n",
       "      <td>1.000000</td>\n",
       "      <td>1.500000</td>\n",
       "      <td>1.500000</td>\n",
       "    </tr>\n",
       "    <tr>\n",
       "      <th>50%</th>\n",
       "      <td>1.516775e+10</td>\n",
       "      <td>138.000000</td>\n",
       "      <td>1.500000</td>\n",
       "      <td>1.000000</td>\n",
       "      <td>138.000000</td>\n",
       "      <td>1.500000</td>\n",
       "      <td>1.000000</td>\n",
       "      <td>1.500000</td>\n",
       "      <td>2.000000</td>\n",
       "    </tr>\n",
       "    <tr>\n",
       "      <th>75%</th>\n",
       "      <td>1.538483e+10</td>\n",
       "      <td>144.000000</td>\n",
       "      <td>2.500000</td>\n",
       "      <td>1.000000</td>\n",
       "      <td>144.000000</td>\n",
       "      <td>2.500000</td>\n",
       "      <td>1.000000</td>\n",
       "      <td>2.500000</td>\n",
       "      <td>2.750000</td>\n",
       "    </tr>\n",
       "    <tr>\n",
       "      <th>max</th>\n",
       "      <td>1.560392e+10</td>\n",
       "      <td>165.000000</td>\n",
       "      <td>5.000000</td>\n",
       "      <td>3.000000</td>\n",
       "      <td>165.000000</td>\n",
       "      <td>5.000000</td>\n",
       "      <td>3.000000</td>\n",
       "      <td>8.000000</td>\n",
       "      <td>8.000000</td>\n",
       "    </tr>\n",
       "  </tbody>\n",
       "</table>\n",
       "</div>"
      ],
      "text/plain": [
       "        Transaction        RCoil       RPrice         RQty        MCoil  \\\n",
       "count  6.445000e+03  6445.000000  6445.000000  6445.000000  6445.000000   \n",
       "mean   1.513391e+10   133.172692     1.926804     1.013344   133.172692   \n",
       "std    2.983541e+08    12.909228     0.673113     0.121324    12.909228   \n",
       "min    1.451578e+10   110.000000     1.000000     1.000000   110.000000   \n",
       "25%    1.490924e+10   122.000000     1.500000     1.000000   122.000000   \n",
       "50%    1.516775e+10   138.000000     1.500000     1.000000   138.000000   \n",
       "75%    1.538483e+10   144.000000     2.500000     1.000000   144.000000   \n",
       "max    1.560392e+10   165.000000     5.000000     3.000000   165.000000   \n",
       "\n",
       "            MPrice         MQty    LineTotal   TransTotal  \n",
       "count  6444.000000  6445.000000  6445.000000  6445.000000  \n",
       "mean      1.926870     1.013344     1.949651     2.183204  \n",
       "std       0.673145     0.121324     0.703080     1.044052  \n",
       "min       1.000000     1.000000     1.000000     1.000000  \n",
       "25%       1.500000     1.000000     1.500000     1.500000  \n",
       "50%       1.500000     1.000000     1.500000     2.000000  \n",
       "75%       2.500000     1.000000     2.500000     2.750000  \n",
       "max       5.000000     3.000000     8.000000     8.000000  "
      ]
     },
     "execution_count": 23,
     "metadata": {},
     "output_type": "execute_result"
    }
   ],
   "source": [
    "df.describe()"
   ]
  },
  {
   "cell_type": "code",
   "execution_count": 30,
   "metadata": {},
   "outputs": [
    {
     "data": {
      "text/plain": [
       "array(['Brunswick Sq Mall', 'Earle Asphalt', 'GuttenPlans',\n",
       "       'EB Public Library'], dtype=object)"
      ]
     },
     "execution_count": 30,
     "metadata": {},
     "output_type": "execute_result"
    }
   ],
   "source": [
    "pd.unique(df['Location'])"
   ]
  },
  {
   "cell_type": "code",
   "execution_count": 31,
   "metadata": {},
   "outputs": [
    {
     "data": {
      "text/plain": [
       "array(['Carbonated', 'Food', 'Non Carbonated', 'Water', nan], dtype=object)"
      ]
     },
     "execution_count": 31,
     "metadata": {},
     "output_type": "execute_result"
    }
   ],
   "source": [
    "pd.unique(df['Category'])"
   ]
  },
  {
   "cell_type": "code",
   "execution_count": 32,
   "metadata": {},
   "outputs": [
    {
     "data": {
      "text/plain": [
       "array(['BSQ Mall x1366 - ATT', 'BSQ Mall x1364 - Zales',\n",
       "       'Earle Asphalt x1371', 'GuttenPlans x1367',\n",
       "       'EB Public Library x1380'], dtype=object)"
      ]
     },
     "execution_count": 32,
     "metadata": {},
     "output_type": "execute_result"
    }
   ],
   "source": [
    "pd.unique(df['Machine'])"
   ]
  },
  {
   "cell_type": "code",
   "execution_count": 33,
   "metadata": {},
   "outputs": [
    {
     "data": {
      "text/plain": [
       "array(['Red Bull - Energy Drink - Sugar Free',\n",
       "       'Takis - Hot Chilli Pepper & Lime',\n",
       "       'Bai Antioxidant - Brasilia BB',\n",
       "       \"Miss Vickie's Potato Chip - Sea Salt & Vinega\",\n",
       "       \"Miss Vickie's Potato Chip - Lime & Cracked Pe\",\n",
       "       'Monster Energy Original',\n",
       "       'Seapoint Farms Dry Roasted Edamame - Wasabi',\n",
       "       'Snapple Diet Tea - Lemon', 'Skinny Pop Popcorn',\n",
       "       'Stretch Island Fruit Leathers Snacks - Variet',\n",
       "       'KitKat - Crisp Wafers', 'Wonderful Pistachios - Variety',\n",
       "       'Spindrift - Sparkling Water  Lime',\n",
       "       \"Miss Vickie's Potato Chip - Sea Salt Original\",\n",
       "       'Jacks Links Bar Beef Strip',\n",
       "       'Vitamin Water - XXX Acai BB Pomegranate',\n",
       "       'Cheetos - Fleming Hot Crunchy',\n",
       "       'Pure Organic Fruit Bar - Strawberry Banana', 'Oreo Mini',\n",
       "       'Nutter Butter Bites', 'Jack Links Beef Steak Original',\n",
       "       \"Robert Irvine's - Fit Crunch -  Chocolate Pea\",\n",
       "       'Good Health Veggie Stix - Zesty Ranch',\n",
       "       'Cheetos Baked - Flaming Hot',\n",
       "       'S. Pellegrino Sparkling Mineral Water', 'Mini Chips Ahoy',\n",
       "       'Newtons Fig Bar', 'SunChips Multigrain - Salsa',\n",
       "       'Bubly - Grapefruit', 'Poland Springs Water',\n",
       "       'Chum Fruit Bites - Mango/Strawberry',\n",
       "       'Snapple Diet Tea - Raspberry',\n",
       "       'Zevia Zero Calorie Energy - Mango Ginger',\n",
       "       'V8 Vegetable Juice - Original', 'BodyArmor LYTE  - Peach Mango',\n",
       "       'SunChips Multigrain - Harvest Cheddar',\n",
       "       'Good Health Veggie Stix - Sea Salt',\n",
       "       'Snapple Diet Tea - Peach Tea', 'Keto Krisp - Almond/Chocolate',\n",
       "       'Larabar - Peanut Butter chocolate Chip',\n",
       "       'Bai Antioxidant - Molokai Coconut', 'Monster Energy  Zero Ultra',\n",
       "       'Chesters Fries Flaming hot',\n",
       "       \"Miss Vickie's Potato Chip - Jalapeno\", 'Coca Cola - Zero Sugar',\n",
       "       'Red Bull - Original', 'Ruffles Baked  - Cheddar & Sour Cream',\n",
       "       'Ritz Bits Cheese', 'CheezIt - Original', 'Takis FUGEO mini',\n",
       "       'BodyArmor LYTE  - Berry Punch',\n",
       "       \"Miss Vickie's Potato Chip - Smokehouse BBQ\",\n",
       "       'Vitamin Water - Ice Cool Blue Lavender',\n",
       "       'CheezIt - White Cheddar',\n",
       "       \"Nature's Valley Crunchy Granola Bar - Oats &\",\n",
       "       'Lays Baked - Original', 'Bai Antioxidant - Zambia Bingcherry',\n",
       "       'Bubly - Cherry', 'Belvita Breakfast Cookies - Blueberry',\n",
       "       'Spindrift - Sparkling Water Raspberry Lime',\n",
       "       'SunChips Multigrain - Original', 'Popchips Potato - Barbeque',\n",
       "       \"Snyder's of Hanover Pretzel - Cheddar Cheese\",\n",
       "       'Pure Organic Pineapple Passionfruit',\n",
       "       'Keto Krisp - Almond Butter',\n",
       "       \"Nature's Valley Chewy Granola Bar - Fruit & N\",\n",
       "       'Vitamin Water - Squeezed Lemonade', 'Popchips Potato - Sea Salt',\n",
       "       'CheezIt - Double Cheese', 'Lays Baked - Barbecue',\n",
       "       'Sunkist Soda - Orange', 'Funyuns - Flaming Hot',\n",
       "       'Munchies Snack mix Flaming Hot',\n",
       "       'NuGo Dark Chocolate - Choc Chip', 'Oreo Single Server 6 ct',\n",
       "       'Cheetos Flaming Hot Limon Crunchy',\n",
       "       'Oberto Specialty Meats - Original', 'Doritos Famin Hot Nacho',\n",
       "       'Kinder - Bueno - Crispy Creamy Chocolate',\n",
       "       'Belvita Snack Packs - Blueberry',\n",
       "       'RXBAR - Protein Bar - Peanut Butter', 'Snapple Tea - Raspberry',\n",
       "       'KIND Bar - Dark Choc Almond SeaSalt', 'Fritos - Original',\n",
       "       'NuGo Dark Chocolate - Pretzel Sea Salt',\n",
       "       'Cheetos Baked - Crunchy Cheese',\n",
       "       'CheezIt - Cheddar Sour Cream and Onion',\n",
       "       'RXBAR - Protein Bar - Chocolate Sea Salt',\n",
       "       'Starbucks Doubleshot Energy - Mocha', 'Bubly - Blackberry',\n",
       "       'Doritos Nacho Cheese', 'Cheetos - Crunchy',\n",
       "       'Spindrift - Sparkling Water - Pineapple', 'Iberia Coconut Water',\n",
       "       'Doritos Cool Ranch', 'Lays - Classic',\n",
       "       'Genius Keto Bar - Chocolate Dream', nan,\n",
       "       'Lenny & Larrys - SnickerDoodle',\n",
       "       'Autumns Granola Bar - Cinnamon Almond',\n",
       "       'SunChips Multigrain - French Onion',\n",
       "       'Bai Antioxidant - Kula Watermelon', 'Honest Tea - Berry Hibiscus',\n",
       "       'Hungry Buddha - Chocolate Chip', 'Remedy Kombucha - Ginger Lemon',\n",
       "       'Doritos Dinamita Chile Lemon',\n",
       "       'Starbucks Refresher - Real Coconut Water',\n",
       "       'Hungry Buddha - Coconut Cocoa',\n",
       "       'Made in Nature - Mangoes Sweet & Tangy',\n",
       "       'Belvita Snack Packs - Cinnamon',\n",
       "       'Keto Bar - Creamy Peanut Butter Chocolate',\n",
       "       'Skippy Peanut Butter - Go Paks',\n",
       "       'Belvita Snack Bites - Cinnamon BS Go Paks',\n",
       "       'Pop Corners - Kettle Corn',\n",
       "       'Bai Antioxidant - Kupang strawberry kiwi',\n",
       "       'Quaker Caramel Rice Crisps', 'Belvita Snack Packs - Chocolate',\n",
       "       'Pop Corners - Sea Salt', 'Pop Corners - Spicy Queso',\n",
       "       'Quaker Apple Cinnamon Rice Crisps',\n",
       "       'Bai Antioxidant - Tanzania Lemon Super Tea',\n",
       "       'Quaker ButterMilk Ranch Rice Crisps',\n",
       "       'Bai Lemonade - Burundi Blueberry', 'Pop Corners - White Cheddar',\n",
       "       'Bubly - Mango', 'Nutri Grain Apple Cinnamon',\n",
       "       'Quaker Cheddar Rice Crisps', 'Cheetos Puffs',\n",
       "       'Cheetos Cheddar Jalapeno', 'Bubly - Lime',\n",
       "       \"Nature's Garden Trail Mix - Cranberry Healthy\",\n",
       "       'BodyArmor LYTE - Strawberry Lemonade',\n",
       "       'Keep Healthy - Chocolate Fudge', 'CheezIt - Go Paks',\n",
       "       'Lenny & Larrys - Chocolate Chip',\n",
       "       \"Snyder's of Hanover Pretzel Pieces - Honey Mu\",\n",
       "       'Belvita Breakfast Biscuit Bites - Blueberry',\n",
       "       \"Snyder's of Hanover Pretzel Pieces - Hot Buff\",\n",
       "       'Ice Breakers Ice Cubes - PepperMint', 'Goldfish Baked - Cheddar',\n",
       "       'Doritos Spicy Nacho', 'Pop Corners - Sweet & Salty Kettle',\n",
       "       'Mini Chips Ahoy - Go Paks', 'Oreo Mini - Go Paks',\n",
       "       'Teddy Grahams - Go Paks',\n",
       "       'BodyArmor  LYTE - Blueberry Pomegranate',\n",
       "       'Starbucks Doubleshot Energy - Coffee',\n",
       "       \"Snyder's of Hanover Pretzel Pieces - Cheddar\",\n",
       "       \"Nature's Bakery Fig Bar - Blueberry\",\n",
       "       \"Nature's Bakery Fig Bar - Raspberry\",\n",
       "       'Canada Dry - Ginger Ale & Lemonde', 'Canada Dry - Ginger Ale',\n",
       "       'Snapple Tea - Lemon', 'Popchips Potato - Sour Cream & Onion',\n",
       "       'Pringles - Cheddar Cheese', 'Pringles - Sour Cream & Onion',\n",
       "       'Coca Cola - Regular', 'Snapple Tea - Peach',\n",
       "       'Zone Perfect - Chocolate Chip Cookie Dough',\n",
       "       \"Nature's Garden Trail Mix - Omega 3\",\n",
       "       'S. Pellegrino Essenza Mineral Water - Blood O',\n",
       "       'Snapple Lemonade - black berry', 'Snapple Lemonade - watermelon',\n",
       "       'Snapple Lemonade - pineapple', 'Zevia Organic Tea - Peach',\n",
       "       \"Nature's Garden Trail Mix - Heart Healthy Mix\",\n",
       "       'Keto Bar - Chocolate Dream', 'Lindens - Chocolate Chippers',\n",
       "       'Pure Organic Fruit Bar - Raspberry Lemonade',\n",
       "       'TruBar - Cookie Dough', 'TruBar - Daydreaming about Donuts'],\n",
       "      dtype=object)"
      ]
     },
     "execution_count": 33,
     "metadata": {},
     "output_type": "execute_result"
    }
   ],
   "source": [
    "pd.unique(df['Product'])"
   ]
  },
  {
   "cell_type": "code",
   "execution_count": 35,
   "metadata": {},
   "outputs": [
    {
     "data": {
      "text/plain": [
       "count    6445.000000\n",
       "mean        2.183204\n",
       "std         1.044052\n",
       "min         1.000000\n",
       "25%         1.500000\n",
       "50%         2.000000\n",
       "75%         2.750000\n",
       "max         8.000000\n",
       "Name: TransTotal, dtype: float64"
      ]
     },
     "execution_count": 35,
     "metadata": {},
     "output_type": "execute_result"
    }
   ],
   "source": [
    "df['TransTotal'].describe()"
   ]
  },
  {
   "cell_type": "code",
   "execution_count": 38,
   "metadata": {},
   "outputs": [
    {
     "data": {
      "text/html": [
       "<div>\n",
       "<style scoped>\n",
       "    .dataframe tbody tr th:only-of-type {\n",
       "        vertical-align: middle;\n",
       "    }\n",
       "\n",
       "    .dataframe tbody tr th {\n",
       "        vertical-align: top;\n",
       "    }\n",
       "\n",
       "    .dataframe thead th {\n",
       "        text-align: right;\n",
       "    }\n",
       "</style>\n",
       "<table border=\"1\" class=\"dataframe\">\n",
       "  <thead>\n",
       "    <tr style=\"text-align: right;\">\n",
       "      <th></th>\n",
       "      <th>Transaction</th>\n",
       "      <th>RCoil</th>\n",
       "      <th>RPrice</th>\n",
       "      <th>RQty</th>\n",
       "      <th>MCoil</th>\n",
       "      <th>MPrice</th>\n",
       "      <th>MQty</th>\n",
       "      <th>LineTotal</th>\n",
       "      <th>TransTotal</th>\n",
       "    </tr>\n",
       "    <tr>\n",
       "      <th>Category</th>\n",
       "      <th></th>\n",
       "      <th></th>\n",
       "      <th></th>\n",
       "      <th></th>\n",
       "      <th></th>\n",
       "      <th></th>\n",
       "      <th></th>\n",
       "      <th></th>\n",
       "      <th></th>\n",
       "    </tr>\n",
       "  </thead>\n",
       "  <tbody>\n",
       "    <tr>\n",
       "      <th>Carbonated</th>\n",
       "      <td>1.510553e+10</td>\n",
       "      <td>142.880415</td>\n",
       "      <td>2.057047</td>\n",
       "      <td>1.006101</td>\n",
       "      <td>142.880415</td>\n",
       "      <td>2.057047</td>\n",
       "      <td>1.006101</td>\n",
       "      <td>2.067267</td>\n",
       "      <td>2.140635</td>\n",
       "    </tr>\n",
       "    <tr>\n",
       "      <th>Food</th>\n",
       "      <td>1.513296e+10</td>\n",
       "      <td>124.250292</td>\n",
       "      <td>1.702232</td>\n",
       "      <td>1.016044</td>\n",
       "      <td>124.250292</td>\n",
       "      <td>1.702232</td>\n",
       "      <td>1.016044</td>\n",
       "      <td>1.729653</td>\n",
       "      <td>2.045216</td>\n",
       "    </tr>\n",
       "    <tr>\n",
       "      <th>Non Carbonated</th>\n",
       "      <td>1.516543e+10</td>\n",
       "      <td>144.353521</td>\n",
       "      <td>2.551056</td>\n",
       "      <td>1.004225</td>\n",
       "      <td>144.353521</td>\n",
       "      <td>2.551056</td>\n",
       "      <td>1.004225</td>\n",
       "      <td>2.561972</td>\n",
       "      <td>2.809507</td>\n",
       "    </tr>\n",
       "    <tr>\n",
       "      <th>Water</th>\n",
       "      <td>1.512978e+10</td>\n",
       "      <td>144.322981</td>\n",
       "      <td>1.849379</td>\n",
       "      <td>1.024845</td>\n",
       "      <td>144.322981</td>\n",
       "      <td>1.849379</td>\n",
       "      <td>1.024845</td>\n",
       "      <td>1.890269</td>\n",
       "      <td>2.031573</td>\n",
       "    </tr>\n",
       "  </tbody>\n",
       "</table>\n",
       "</div>"
      ],
      "text/plain": [
       "                 Transaction       RCoil    RPrice      RQty       MCoil  \\\n",
       "Category                                                                   \n",
       "Carbonated      1.510553e+10  142.880415  2.057047  1.006101  142.880415   \n",
       "Food            1.513296e+10  124.250292  1.702232  1.016044  124.250292   \n",
       "Non Carbonated  1.516543e+10  144.353521  2.551056  1.004225  144.353521   \n",
       "Water           1.512978e+10  144.322981  1.849379  1.024845  144.322981   \n",
       "\n",
       "                  MPrice      MQty  LineTotal  TransTotal  \n",
       "Category                                                   \n",
       "Carbonated      2.057047  1.006101   2.067267    2.140635  \n",
       "Food            1.702232  1.016044   1.729653    2.045216  \n",
       "Non Carbonated  2.551056  1.004225   2.561972    2.809507  \n",
       "Water           1.849379  1.024845   1.890269    2.031573  "
      ]
     },
     "execution_count": 38,
     "metadata": {},
     "output_type": "execute_result"
    }
   ],
   "source": [
    "grouped_data = df.groupby('Category')\n",
    "grouped_data.describe()\n",
    "grouped_data.mean()"
   ]
  },
  {
   "cell_type": "code",
   "execution_count": null,
   "metadata": {},
   "outputs": [],
   "source": []
  }
 ],
 "metadata": {
  "colab": {
   "provenance": []
  },
  "kernelspec": {
   "display_name": "Python 3 (ipykernel)",
   "language": "python",
   "name": "python3"
  },
  "language_info": {
   "codemirror_mode": {
    "name": "ipython",
    "version": 3
   },
   "file_extension": ".py",
   "mimetype": "text/x-python",
   "name": "python",
   "nbconvert_exporter": "python",
   "pygments_lexer": "ipython3",
   "version": "3.9.7"
  }
 },
 "nbformat": 4,
 "nbformat_minor": 1
}
